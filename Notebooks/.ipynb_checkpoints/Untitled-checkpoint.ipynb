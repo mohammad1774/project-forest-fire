{
 "cells": [
  {
   "cell_type": "code",
   "execution_count": 5,
   "id": "a20da6d9",
   "metadata": {},
   "outputs": [
    {
     "ename": "OSError",
     "evalue": "source code not available",
     "output_type": "error",
     "traceback": [
      "\u001b[1;31m---------------------------------------------------------------------------\u001b[0m",
      "\u001b[1;31mOSError\u001b[0m                                   Traceback (most recent call last)",
      "Cell \u001b[1;32mIn[5], line 88\u001b[0m\n\u001b[0;32m     85\u001b[0m         popup\u001b[38;5;241m.\u001b[39mopen()\n\u001b[0;32m     87\u001b[0m \u001b[38;5;28;01mif\u001b[39;00m \u001b[38;5;18m__name__\u001b[39m \u001b[38;5;241m==\u001b[39m \u001b[38;5;124m'\u001b[39m\u001b[38;5;124m__main__\u001b[39m\u001b[38;5;124m'\u001b[39m:\n\u001b[1;32m---> 88\u001b[0m     ImagePredictionApp()\u001b[38;5;241m.\u001b[39mrun()\n",
      "File \u001b[1;32m~\\.conda\\envs\\timeseries\\Lib\\site-packages\\kivy\\app.py:955\u001b[0m, in \u001b[0;36mApp.run\u001b[1;34m(self)\u001b[0m\n\u001b[0;32m    952\u001b[0m \u001b[38;5;28;01mdef\u001b[39;00m \u001b[38;5;21mrun\u001b[39m(\u001b[38;5;28mself\u001b[39m):\n\u001b[0;32m    953\u001b[0m \u001b[38;5;250m    \u001b[39m\u001b[38;5;124;03m'''Launches the app in standalone mode.\u001b[39;00m\n\u001b[0;32m    954\u001b[0m \u001b[38;5;124;03m    '''\u001b[39;00m\n\u001b[1;32m--> 955\u001b[0m     \u001b[38;5;28mself\u001b[39m\u001b[38;5;241m.\u001b[39m_run_prepare()\n\u001b[0;32m    956\u001b[0m     runTouchApp()\n\u001b[0;32m    957\u001b[0m     \u001b[38;5;28mself\u001b[39m\u001b[38;5;241m.\u001b[39m_stop()\n",
      "File \u001b[1;32m~\\.conda\\envs\\timeseries\\Lib\\site-packages\\kivy\\app.py:924\u001b[0m, in \u001b[0;36mApp._run_prepare\u001b[1;34m(self)\u001b[0m\n\u001b[0;32m    922\u001b[0m \u001b[38;5;28;01mif\u001b[39;00m \u001b[38;5;129;01mnot\u001b[39;00m \u001b[38;5;28mself\u001b[39m\u001b[38;5;241m.\u001b[39mbuilt:\n\u001b[0;32m    923\u001b[0m     \u001b[38;5;28mself\u001b[39m\u001b[38;5;241m.\u001b[39mload_config()\n\u001b[1;32m--> 924\u001b[0m     \u001b[38;5;28mself\u001b[39m\u001b[38;5;241m.\u001b[39mload_kv(filename\u001b[38;5;241m=\u001b[39m\u001b[38;5;28mself\u001b[39m\u001b[38;5;241m.\u001b[39mkv_file)\n\u001b[0;32m    925\u001b[0m     root \u001b[38;5;241m=\u001b[39m \u001b[38;5;28mself\u001b[39m\u001b[38;5;241m.\u001b[39mbuild()\n\u001b[0;32m    926\u001b[0m     \u001b[38;5;28;01mif\u001b[39;00m root:\n",
      "File \u001b[1;32m~\\.conda\\envs\\timeseries\\Lib\\site-packages\\kivy\\app.py:677\u001b[0m, in \u001b[0;36mApp.load_kv\u001b[1;34m(self, filename)\u001b[0m\n\u001b[0;32m    675\u001b[0m \u001b[38;5;28;01melse\u001b[39;00m:\n\u001b[0;32m    676\u001b[0m     \u001b[38;5;28;01mtry\u001b[39;00m:\n\u001b[1;32m--> 677\u001b[0m         default_kv_directory \u001b[38;5;241m=\u001b[39m dirname(getfile(\u001b[38;5;28mself\u001b[39m\u001b[38;5;241m.\u001b[39m\u001b[38;5;18m__class__\u001b[39m))\n\u001b[0;32m    678\u001b[0m         \u001b[38;5;28;01mif\u001b[39;00m default_kv_directory \u001b[38;5;241m==\u001b[39m \u001b[38;5;124m'\u001b[39m\u001b[38;5;124m'\u001b[39m:\n\u001b[0;32m    679\u001b[0m             default_kv_directory \u001b[38;5;241m=\u001b[39m \u001b[38;5;124m'\u001b[39m\u001b[38;5;124m.\u001b[39m\u001b[38;5;124m'\u001b[39m\n",
      "File \u001b[1;32m~\\.conda\\envs\\timeseries\\Lib\\inspect.py:908\u001b[0m, in \u001b[0;36mgetfile\u001b[1;34m(object)\u001b[0m\n\u001b[0;32m    906\u001b[0m             \u001b[38;5;28;01mreturn\u001b[39;00m module\u001b[38;5;241m.\u001b[39m\u001b[38;5;18m__file__\u001b[39m\n\u001b[0;32m    907\u001b[0m         \u001b[38;5;28;01mif\u001b[39;00m \u001b[38;5;28mobject\u001b[39m\u001b[38;5;241m.\u001b[39m\u001b[38;5;18m__module__\u001b[39m \u001b[38;5;241m==\u001b[39m \u001b[38;5;124m'\u001b[39m\u001b[38;5;124m__main__\u001b[39m\u001b[38;5;124m'\u001b[39m:\n\u001b[1;32m--> 908\u001b[0m             \u001b[38;5;28;01mraise\u001b[39;00m \u001b[38;5;167;01mOSError\u001b[39;00m(\u001b[38;5;124m'\u001b[39m\u001b[38;5;124msource code not available\u001b[39m\u001b[38;5;124m'\u001b[39m)\n\u001b[0;32m    909\u001b[0m     \u001b[38;5;28;01mraise\u001b[39;00m \u001b[38;5;167;01mTypeError\u001b[39;00m(\u001b[38;5;124m'\u001b[39m\u001b[38;5;132;01m{!r}\u001b[39;00m\u001b[38;5;124m is a built-in class\u001b[39m\u001b[38;5;124m'\u001b[39m\u001b[38;5;241m.\u001b[39mformat(\u001b[38;5;28mobject\u001b[39m))\n\u001b[0;32m    910\u001b[0m \u001b[38;5;28;01mif\u001b[39;00m ismethod(\u001b[38;5;28mobject\u001b[39m):\n",
      "\u001b[1;31mOSError\u001b[0m: source code not available"
     ]
    }
   ],
   "source": [
    "from kivy.app import App\n",
    "from kivy.uix.boxlayout import BoxLayout\n",
    "from kivy.uix.image import Image\n",
    "from kivy.uix.button import Button\n",
    "from kivy.uix.label import Label\n",
    "from kivy.uix.filechooser import FileChooserListView\n",
    "from kivy.uix.popup import Popup\n",
    "from kivy.loader import Loader\n",
    "import requests\n",
    "from io import BytesIO\n",
    "from PIL import Image as PILImage\n",
    "\n",
    "class ImagePredictionApp(App):\n",
    "    def build(self):\n",
    "        self.layout = BoxLayout(orientation='vertical', spacing=10, padding=10)\n",
    "\n",
    "        # Image display widget\n",
    "        self.image = Image(size=(300, 300), allow_stretch=True)\n",
    "        self.layout.add_widget(self.image)\n",
    "\n",
    "        # FileChooser widget\n",
    "        self.file_chooser = FileChooserListView()\n",
    "        self.layout.add_widget(self.file_chooser)\n",
    "\n",
    "        # Button to make predictions\n",
    "        btn_predict = Button(text='Predict', size_hint=(None, None))\n",
    "        btn_predict.bind(on_press=self.predict_image)\n",
    "        self.layout.add_widget(btn_predict)\n",
    "\n",
    "        return self.layout\n",
    "\n",
    "    def predict_image(self, instance):\n",
    "        # Check if an image is selected\n",
    "        selected_file = self.file_chooser.selection and self.file_chooser.selection[0]\n",
    "        if not selected_file:\n",
    "            self.show_error_popup(\"Please select an image file.\")\n",
    "            return\n",
    "\n",
    "        # Load and display the selected image\n",
    "        image_path = selected_file\n",
    "        self.load_and_display_image(image_path)\n",
    "\n",
    "        # Make predictions using the API\n",
    "        try:\n",
    "            prediction = self.call_api_for_prediction(image_path)\n",
    "            self.show_prediction_popup(prediction)\n",
    "        except Exception as e:\n",
    "            self.show_error_popup(f\"Error: {str(e)}\")\n",
    "\n",
    "    def load_and_display_image(self, image_path):\n",
    "        # Load and display the selected image\n",
    "        self.image.source = image_path\n",
    "        self.image.reload()\n",
    "\n",
    "    def call_api_for_prediction(self, image_path):\n",
    "        # Convert image to bytes for sending in the API request\n",
    "        img = PILImage.open(image_path)\n",
    "        img_bytes = BytesIO()\n",
    "        img.save(img_bytes, format='JPEG')\n",
    "\n",
    "        # Send a POST request to the API endpoint (replace with your API URL)\n",
    "        api_url = 'http://127.0.0.1:5000'\n",
    "        files = {'image': img_bytes.getvalue()}\n",
    "        response = requests.post(api_url, files=files)\n",
    "\n",
    "        # Parse and return the prediction from the response\n",
    "        prediction = response.json()\n",
    "        return prediction\n",
    "\n",
    "    def show_prediction_popup(self, prediction):\n",
    "        # Display a popup with the prediction\n",
    "        content = BoxLayout(orientation='vertical', spacing=10, padding=10)\n",
    "        content.add_widget(Label(text='Prediction:'))\n",
    "        content.add_widget(Label(text=str(prediction)))\n",
    "\n",
    "        popup = Popup(title='Prediction', content=content, size_hint=(None, None), size=(300, 200))\n",
    "        popup.open()\n",
    "\n",
    "    def show_error_popup(self, error_message):\n",
    "        # Display a popup for errors\n",
    "        content = BoxLayout(orientation='vertical', spacing=10, padding=10)\n",
    "        content.add_widget(Label(text=f'Error: {error_message}'))\n",
    "\n",
    "        popup = Popup(title='Error', content=content, size_hint=(None, None), size=(300, 150))\n",
    "        popup.open()\n",
    "\n",
    "if __name__ == '__main__':\n",
    "    ImagePredictionApp().run()\n"
   ]
  },
  {
   "cell_type": "code",
   "execution_count": 4,
   "id": "d922f242",
   "metadata": {},
   "outputs": [
    {
     "data": {
      "text/plain": [
       "'D:\\\\project-forest\\\\jupyter notebooks'"
      ]
     },
     "execution_count": 4,
     "metadata": {},
     "output_type": "execute_result"
    }
   ],
   "source": [
    "import os\n",
    "os.getcwd()"
   ]
  },
  {
   "cell_type": "code",
   "execution_count": 6,
   "id": "fed8768e",
   "metadata": {},
   "outputs": [
    {
     "name": "stdout",
     "output_type": "stream",
     "text": [
      "Requirement already satisfied: kivy in c:\\users\\mohammad\\.conda\\envs\\timeseries\\lib\\site-packages (2.3.0)\n",
      "Requirement already satisfied: Kivy-Garden>=0.1.4 in c:\\users\\mohammad\\.conda\\envs\\timeseries\\lib\\site-packages (from kivy) (0.1.5)\n",
      "Requirement already satisfied: docutils in c:\\users\\mohammad\\.conda\\envs\\timeseries\\lib\\site-packages (from kivy) (0.20.1)\n",
      "Requirement already satisfied: pygments in c:\\users\\mohammad\\.conda\\envs\\timeseries\\lib\\site-packages (from kivy) (2.15.1)\n",
      "Requirement already satisfied: kivy-deps.angle~=0.4.0 in c:\\users\\mohammad\\.conda\\envs\\timeseries\\lib\\site-packages (from kivy) (0.4.0)\n",
      "Requirement already satisfied: kivy-deps.sdl2~=0.7.0 in c:\\users\\mohammad\\.conda\\envs\\timeseries\\lib\\site-packages (from kivy) (0.7.0)\n",
      "Requirement already satisfied: kivy-deps.glew~=0.3.1 in c:\\users\\mohammad\\.conda\\envs\\timeseries\\lib\\site-packages (from kivy) (0.3.1)\n",
      "Requirement already satisfied: pypiwin32 in c:\\users\\mohammad\\.conda\\envs\\timeseries\\lib\\site-packages (from kivy) (223)\n",
      "Requirement already satisfied: requests in c:\\users\\mohammad\\.conda\\envs\\timeseries\\lib\\site-packages (from Kivy-Garden>=0.1.4->kivy) (2.31.0)\n",
      "Requirement already satisfied: pywin32>=223 in c:\\users\\mohammad\\.conda\\envs\\timeseries\\lib\\site-packages (from pypiwin32->kivy) (305.1)\n",
      "Requirement already satisfied: charset-normalizer<4,>=2 in c:\\users\\mohammad\\.conda\\envs\\timeseries\\lib\\site-packages (from requests->Kivy-Garden>=0.1.4->kivy) (2.0.4)\n",
      "Requirement already satisfied: idna<4,>=2.5 in c:\\users\\mohammad\\.conda\\envs\\timeseries\\lib\\site-packages (from requests->Kivy-Garden>=0.1.4->kivy) (3.4)\n",
      "Requirement already satisfied: urllib3<3,>=1.21.1 in c:\\users\\mohammad\\.conda\\envs\\timeseries\\lib\\site-packages (from requests->Kivy-Garden>=0.1.4->kivy) (1.26.18)\n",
      "Requirement already satisfied: certifi>=2017.4.17 in c:\\users\\mohammad\\.conda\\envs\\timeseries\\lib\\site-packages (from requests->Kivy-Garden>=0.1.4->kivy) (2023.11.17)\n",
      "Note: you may need to restart the kernel to use updated packages.\n"
     ]
    }
   ],
   "source": [
    "pip install kivy"
   ]
  },
  {
   "cell_type": "code",
   "execution_count": 7,
   "id": "db4cd3a5",
   "metadata": {},
   "outputs": [
    {
     "ename": "OSError",
     "evalue": "source code not available",
     "output_type": "error",
     "traceback": [
      "\u001b[1;31m---------------------------------------------------------------------------\u001b[0m",
      "\u001b[1;31mOSError\u001b[0m                                   Traceback (most recent call last)",
      "Cell \u001b[1;32mIn[7], line 33\u001b[0m\n\u001b[0;32m     30\u001b[0m             \u001b[38;5;28mself\u001b[39m\u001b[38;5;241m.\u001b[39mlabel\u001b[38;5;241m.\u001b[39mtext \u001b[38;5;241m=\u001b[39m \u001b[38;5;124mf\u001b[39m\u001b[38;5;124m'\u001b[39m\u001b[38;5;124mError: \u001b[39m\u001b[38;5;132;01m{\u001b[39;00m\u001b[38;5;28mstr\u001b[39m(e)\u001b[38;5;132;01m}\u001b[39;00m\u001b[38;5;124m'\u001b[39m\n\u001b[0;32m     32\u001b[0m \u001b[38;5;28;01mif\u001b[39;00m \u001b[38;5;18m__name__\u001b[39m \u001b[38;5;241m==\u001b[39m \u001b[38;5;124m'\u001b[39m\u001b[38;5;124m__main__\u001b[39m\u001b[38;5;124m'\u001b[39m:\n\u001b[1;32m---> 33\u001b[0m     MyApp()\u001b[38;5;241m.\u001b[39mrun()\n",
      "File \u001b[1;32m~\\.conda\\envs\\timeseries\\Lib\\site-packages\\kivy\\app.py:955\u001b[0m, in \u001b[0;36mApp.run\u001b[1;34m(self)\u001b[0m\n\u001b[0;32m    952\u001b[0m \u001b[38;5;28;01mdef\u001b[39;00m \u001b[38;5;21mrun\u001b[39m(\u001b[38;5;28mself\u001b[39m):\n\u001b[0;32m    953\u001b[0m \u001b[38;5;250m    \u001b[39m\u001b[38;5;124;03m'''Launches the app in standalone mode.\u001b[39;00m\n\u001b[0;32m    954\u001b[0m \u001b[38;5;124;03m    '''\u001b[39;00m\n\u001b[1;32m--> 955\u001b[0m     \u001b[38;5;28mself\u001b[39m\u001b[38;5;241m.\u001b[39m_run_prepare()\n\u001b[0;32m    956\u001b[0m     runTouchApp()\n\u001b[0;32m    957\u001b[0m     \u001b[38;5;28mself\u001b[39m\u001b[38;5;241m.\u001b[39m_stop()\n",
      "File \u001b[1;32m~\\.conda\\envs\\timeseries\\Lib\\site-packages\\kivy\\app.py:924\u001b[0m, in \u001b[0;36mApp._run_prepare\u001b[1;34m(self)\u001b[0m\n\u001b[0;32m    922\u001b[0m \u001b[38;5;28;01mif\u001b[39;00m \u001b[38;5;129;01mnot\u001b[39;00m \u001b[38;5;28mself\u001b[39m\u001b[38;5;241m.\u001b[39mbuilt:\n\u001b[0;32m    923\u001b[0m     \u001b[38;5;28mself\u001b[39m\u001b[38;5;241m.\u001b[39mload_config()\n\u001b[1;32m--> 924\u001b[0m     \u001b[38;5;28mself\u001b[39m\u001b[38;5;241m.\u001b[39mload_kv(filename\u001b[38;5;241m=\u001b[39m\u001b[38;5;28mself\u001b[39m\u001b[38;5;241m.\u001b[39mkv_file)\n\u001b[0;32m    925\u001b[0m     root \u001b[38;5;241m=\u001b[39m \u001b[38;5;28mself\u001b[39m\u001b[38;5;241m.\u001b[39mbuild()\n\u001b[0;32m    926\u001b[0m     \u001b[38;5;28;01mif\u001b[39;00m root:\n",
      "File \u001b[1;32m~\\.conda\\envs\\timeseries\\Lib\\site-packages\\kivy\\app.py:677\u001b[0m, in \u001b[0;36mApp.load_kv\u001b[1;34m(self, filename)\u001b[0m\n\u001b[0;32m    675\u001b[0m \u001b[38;5;28;01melse\u001b[39;00m:\n\u001b[0;32m    676\u001b[0m     \u001b[38;5;28;01mtry\u001b[39;00m:\n\u001b[1;32m--> 677\u001b[0m         default_kv_directory \u001b[38;5;241m=\u001b[39m dirname(getfile(\u001b[38;5;28mself\u001b[39m\u001b[38;5;241m.\u001b[39m\u001b[38;5;18m__class__\u001b[39m))\n\u001b[0;32m    678\u001b[0m         \u001b[38;5;28;01mif\u001b[39;00m default_kv_directory \u001b[38;5;241m==\u001b[39m \u001b[38;5;124m'\u001b[39m\u001b[38;5;124m'\u001b[39m:\n\u001b[0;32m    679\u001b[0m             default_kv_directory \u001b[38;5;241m=\u001b[39m \u001b[38;5;124m'\u001b[39m\u001b[38;5;124m.\u001b[39m\u001b[38;5;124m'\u001b[39m\n",
      "File \u001b[1;32m~\\.conda\\envs\\timeseries\\Lib\\inspect.py:908\u001b[0m, in \u001b[0;36mgetfile\u001b[1;34m(object)\u001b[0m\n\u001b[0;32m    906\u001b[0m             \u001b[38;5;28;01mreturn\u001b[39;00m module\u001b[38;5;241m.\u001b[39m\u001b[38;5;18m__file__\u001b[39m\n\u001b[0;32m    907\u001b[0m         \u001b[38;5;28;01mif\u001b[39;00m \u001b[38;5;28mobject\u001b[39m\u001b[38;5;241m.\u001b[39m\u001b[38;5;18m__module__\u001b[39m \u001b[38;5;241m==\u001b[39m \u001b[38;5;124m'\u001b[39m\u001b[38;5;124m__main__\u001b[39m\u001b[38;5;124m'\u001b[39m:\n\u001b[1;32m--> 908\u001b[0m             \u001b[38;5;28;01mraise\u001b[39;00m \u001b[38;5;167;01mOSError\u001b[39;00m(\u001b[38;5;124m'\u001b[39m\u001b[38;5;124msource code not available\u001b[39m\u001b[38;5;124m'\u001b[39m)\n\u001b[0;32m    909\u001b[0m     \u001b[38;5;28;01mraise\u001b[39;00m \u001b[38;5;167;01mTypeError\u001b[39;00m(\u001b[38;5;124m'\u001b[39m\u001b[38;5;132;01m{!r}\u001b[39;00m\u001b[38;5;124m is a built-in class\u001b[39m\u001b[38;5;124m'\u001b[39m\u001b[38;5;241m.\u001b[39mformat(\u001b[38;5;28mobject\u001b[39m))\n\u001b[0;32m    910\u001b[0m \u001b[38;5;28;01mif\u001b[39;00m ismethod(\u001b[38;5;28mobject\u001b[39m):\n",
      "\u001b[1;31mOSError\u001b[0m: source code not available"
     ]
    }
   ],
   "source": [
    "from kivy.app import App\n",
    "from kivy.uix.boxlayout import BoxLayout\n",
    "from kivy.uix.label import Label\n",
    "from kivy.uix.button import Button\n",
    "import requests\n",
    "\n",
    "class MyApp(App):\n",
    "    def build(self):\n",
    "        # UI components\n",
    "        self.layout = BoxLayout(orientation='vertical', spacing=10, padding=10)\n",
    "\n",
    "        self.label = Label(text='Waiting for response...')\n",
    "        self.layout.add_widget(self.label)\n",
    "\n",
    "        self.button = Button(text='Get Flask Response', on_press=self.get_flask_response)\n",
    "        self.layout.add_widget(self.button)\n",
    "\n",
    "        return self.layout\n",
    "\n",
    "    def get_flask_response(self, instance):\n",
    "        try:\n",
    "            # Replace 'http://127.0.0.1:5000/' with the actual Flask app URL\n",
    "            flask_url = 'http://127.0.0.1:5000/'\n",
    "            response = requests.get(flask_url)\n",
    "            flask_message = response.text\n",
    "\n",
    "            # Update label with Flask response\n",
    "            self.label.text = f'Flask Response: {flask_message}'\n",
    "        except Exception as e:\n",
    "            self.label.text = f'Error: {str(e)}'\n",
    "\n",
    "if __name__ == '__main__':\n",
    "    MyApp().run()\n"
   ]
  },
  {
   "cell_type": "code",
   "execution_count": 8,
   "id": "5bb62727",
   "metadata": {},
   "outputs": [],
   "source": [
    "import tensorflow as tf"
   ]
  },
  {
   "cell_type": "code",
   "execution_count": null,
   "id": "fe5029e7",
   "metadata": {},
   "outputs": [],
   "source": [
    "model = tf.saved_model.load('project-forest/python-project/trained_model_tf')"
   ]
  }
 ],
 "metadata": {
  "kernelspec": {
   "display_name": "Python 3 (ipykernel)",
   "language": "python",
   "name": "python3"
  },
  "language_info": {
   "codemirror_mode": {
    "name": "ipython",
    "version": 3
   },
   "file_extension": ".py",
   "mimetype": "text/x-python",
   "name": "python",
   "nbconvert_exporter": "python",
   "pygments_lexer": "ipython3",
   "version": "3.11.5"
  }
 },
 "nbformat": 4,
 "nbformat_minor": 5
}
